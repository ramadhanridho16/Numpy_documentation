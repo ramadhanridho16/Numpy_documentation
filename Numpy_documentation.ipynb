{
  "nbformat": 4,
  "nbformat_minor": 0,
  "metadata": {
    "colab": {
      "name": "Numpy_documentation.ipynb",
      "provenance": [],
      "authorship_tag": "ABX9TyN00Nt380ygAUiKJj56vbgJ",
      "include_colab_link": true
    },
    "kernelspec": {
      "name": "python3",
      "display_name": "Python 3"
    },
    "language_info": {
      "name": "python"
    }
  },
  "cells": [
    {
      "cell_type": "markdown",
      "metadata": {
        "id": "view-in-github",
        "colab_type": "text"
      },
      "source": [
        "<a href=\"https://colab.research.google.com/github/ramadhanridho16/Numpy_documentation/blob/main/Numpy_documentation.ipynb\" target=\"_parent\"><img src=\"https://colab.research.google.com/assets/colab-badge.svg\" alt=\"Open In Colab\"/></a>"
      ]
    },
    {
      "cell_type": "code",
      "execution_count": 1,
      "metadata": {
        "id": "LUh1HHrmiQhF"
      },
      "outputs": [],
      "source": [
        "# example 1\n",
        "import numpy as np"
      ]
    },
    {
      "cell_type": "code",
      "source": [
        "a = np.arange(15)"
      ],
      "metadata": {
        "id": "OKmhujy6jJ1K"
      },
      "execution_count": 2,
      "outputs": []
    },
    {
      "cell_type": "code",
      "source": [
        "a = a.reshape(3, 5)\n",
        "print(a)"
      ],
      "metadata": {
        "colab": {
          "base_uri": "https://localhost:8080/"
        },
        "id": "VdDVrhBMjSJa",
        "outputId": "7fea901d-43d0-47fe-d071-b4ee61700103"
      },
      "execution_count": 9,
      "outputs": [
        {
          "output_type": "stream",
          "name": "stdout",
          "text": [
            "[[ 0  1  2  3  4]\n",
            " [ 5  6  7  8  9]\n",
            " [10 11 12 13 14]]\n"
          ]
        }
      ]
    },
    {
      "cell_type": "markdown",
      "source": [
        "![image.png](data:image/png;base64,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)"
      ],
      "metadata": {
        "id": "lsrBNUqYlgWZ"
      }
    },
    {
      "cell_type": "code",
      "source": [
        "a.shape"
      ],
      "metadata": {
        "colab": {
          "base_uri": "https://localhost:8080/"
        },
        "id": "v3xvavDkjUzQ",
        "outputId": "f35387c4-806f-4e44-b135-d73b10d117a0"
      },
      "execution_count": 10,
      "outputs": [
        {
          "output_type": "execute_result",
          "data": {
            "text/plain": [
              "(3, 5)"
            ]
          },
          "metadata": {},
          "execution_count": 10
        }
      ]
    },
    {
      "cell_type": "code",
      "source": [
        "a.ndim"
      ],
      "metadata": {
        "colab": {
          "base_uri": "https://localhost:8080/"
        },
        "id": "iTx684wcl2X5",
        "outputId": "3de78325-6570-49d3-8606-7c02817782f2"
      },
      "execution_count": 11,
      "outputs": [
        {
          "output_type": "execute_result",
          "data": {
            "text/plain": [
              "2"
            ]
          },
          "metadata": {},
          "execution_count": 11
        }
      ]
    },
    {
      "cell_type": "code",
      "source": [
        "a.dtype.name"
      ],
      "metadata": {
        "colab": {
          "base_uri": "https://localhost:8080/",
          "height": 35
        },
        "id": "UKjIRW9smEot",
        "outputId": "6eb2e495-4f4a-4e75-b0f9-3a4560f312c0"
      },
      "execution_count": 12,
      "outputs": [
        {
          "output_type": "execute_result",
          "data": {
            "text/plain": [
              "'int64'"
            ],
            "application/vnd.google.colaboratory.intrinsic+json": {
              "type": "string"
            }
          },
          "metadata": {},
          "execution_count": 12
        }
      ]
    },
    {
      "cell_type": "code",
      "source": [
        "a.itemsize"
      ],
      "metadata": {
        "colab": {
          "base_uri": "https://localhost:8080/"
        },
        "id": "EtDTo-yCmGZB",
        "outputId": "bc78f258-ce8d-46d9-c3ef-83a4593917eb"
      },
      "execution_count": 13,
      "outputs": [
        {
          "output_type": "execute_result",
          "data": {
            "text/plain": [
              "8"
            ]
          },
          "metadata": {},
          "execution_count": 13
        }
      ]
    },
    {
      "cell_type": "code",
      "source": [
        "a.size"
      ],
      "metadata": {
        "colab": {
          "base_uri": "https://localhost:8080/"
        },
        "id": "AEjR6_2HmJFc",
        "outputId": "9c0e047b-da1c-4c05-c485-d62d508bd57d"
      },
      "execution_count": 14,
      "outputs": [
        {
          "output_type": "execute_result",
          "data": {
            "text/plain": [
              "15"
            ]
          },
          "metadata": {},
          "execution_count": 14
        }
      ]
    },
    {
      "cell_type": "code",
      "source": [
        "type(a)"
      ],
      "metadata": {
        "colab": {
          "base_uri": "https://localhost:8080/"
        },
        "id": "YdEtGpLXmKSh",
        "outputId": "be321ec5-c57d-48ef-8e4e-209e60a1d4cc"
      },
      "execution_count": 15,
      "outputs": [
        {
          "output_type": "execute_result",
          "data": {
            "text/plain": [
              "numpy.ndarray"
            ]
          },
          "metadata": {},
          "execution_count": 15
        }
      ]
    },
    {
      "cell_type": "code",
      "source": [
        ""
      ],
      "metadata": {
        "id": "Cv8EojITmMTR"
      },
      "execution_count": null,
      "outputs": []
    }
  ]
}